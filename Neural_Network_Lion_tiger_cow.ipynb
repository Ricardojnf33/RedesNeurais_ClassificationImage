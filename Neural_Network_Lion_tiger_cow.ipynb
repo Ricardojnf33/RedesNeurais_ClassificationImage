{
  "nbformat": 4,
  "nbformat_minor": 0,
  "metadata": {
    "colab": {
      "name": "NeuralNetwork_Lion_tiger_cow.ipynb",
      "provenance": [],
      "collapsed_sections": [],
      "include_colab_link": true
    },
    "kernelspec": {
      "name": "python3",
      "display_name": "Python 3"
    },
    "language_info": {
      "name": "python"
    },
    "widgets": {
      "application/vnd.jupyter.widget-state+json": {
        "b98ff94339e6476f9052d62e011f83d2": {
          "model_module": "@jupyter-widgets/controls",
          "model_name": "HBoxModel",
          "model_module_version": "1.5.0",
          "state": {
            "_view_name": "HBoxView",
            "_dom_classes": [],
            "_model_name": "HBoxModel",
            "_view_module": "@jupyter-widgets/controls",
            "_model_module_version": "1.5.0",
            "_view_count": null,
            "_view_module_version": "1.5.0",
            "box_style": "",
            "layout": "IPY_MODEL_0f51a33fddc444109d10b432be2b98b1",
            "_model_module": "@jupyter-widgets/controls",
            "children": [
              "IPY_MODEL_cad3c0bc6b874589a56e1c161011f802",
              "IPY_MODEL_1c17147e6d164dd78d29d43f33b0ea83",
              "IPY_MODEL_f68dfd8e458c48fab606731f391849b4"
            ]
          }
        },
        "0f51a33fddc444109d10b432be2b98b1": {
          "model_module": "@jupyter-widgets/base",
          "model_name": "LayoutModel",
          "model_module_version": "1.2.0",
          "state": {
            "_view_name": "LayoutView",
            "grid_template_rows": null,
            "right": null,
            "justify_content": null,
            "_view_module": "@jupyter-widgets/base",
            "overflow": null,
            "_model_module_version": "1.2.0",
            "_view_count": null,
            "flex_flow": null,
            "width": null,
            "min_width": null,
            "border": null,
            "align_items": null,
            "bottom": null,
            "_model_module": "@jupyter-widgets/base",
            "top": null,
            "grid_column": null,
            "overflow_y": null,
            "overflow_x": null,
            "grid_auto_flow": null,
            "grid_area": null,
            "grid_template_columns": null,
            "flex": null,
            "_model_name": "LayoutModel",
            "justify_items": null,
            "grid_row": null,
            "max_height": null,
            "align_content": null,
            "visibility": null,
            "align_self": null,
            "height": null,
            "min_height": null,
            "padding": null,
            "grid_auto_rows": null,
            "grid_gap": null,
            "max_width": null,
            "order": null,
            "_view_module_version": "1.2.0",
            "grid_template_areas": null,
            "object_position": null,
            "object_fit": null,
            "grid_auto_columns": null,
            "margin": null,
            "display": null,
            "left": null
          }
        },
        "cad3c0bc6b874589a56e1c161011f802": {
          "model_module": "@jupyter-widgets/controls",
          "model_name": "HTMLModel",
          "model_module_version": "1.5.0",
          "state": {
            "_view_name": "HTMLView",
            "style": "IPY_MODEL_c2336c2134314f409c4f8406c50a4c93",
            "_dom_classes": [],
            "description": "",
            "_model_name": "HTMLModel",
            "placeholder": "​",
            "_view_module": "@jupyter-widgets/controls",
            "_model_module_version": "1.5.0",
            "value": "100%",
            "_view_count": null,
            "_view_module_version": "1.5.0",
            "description_tooltip": null,
            "_model_module": "@jupyter-widgets/controls",
            "layout": "IPY_MODEL_8790ecb66d1846db9c26dac049e2b63c"
          }
        },
        "1c17147e6d164dd78d29d43f33b0ea83": {
          "model_module": "@jupyter-widgets/controls",
          "model_name": "FloatProgressModel",
          "model_module_version": "1.5.0",
          "state": {
            "_view_name": "ProgressView",
            "style": "IPY_MODEL_ce4dc1c8e86c43a18930e683b27ffbf7",
            "_dom_classes": [],
            "description": "",
            "_model_name": "FloatProgressModel",
            "bar_style": "success",
            "max": 87319819,
            "_view_module": "@jupyter-widgets/controls",
            "_model_module_version": "1.5.0",
            "value": 87319819,
            "_view_count": null,
            "_view_module_version": "1.5.0",
            "orientation": "horizontal",
            "min": 0,
            "description_tooltip": null,
            "_model_module": "@jupyter-widgets/controls",
            "layout": "IPY_MODEL_cb6a3c8543514f49b52e58cf295c2901"
          }
        },
        "f68dfd8e458c48fab606731f391849b4": {
          "model_module": "@jupyter-widgets/controls",
          "model_name": "HTMLModel",
          "model_module_version": "1.5.0",
          "state": {
            "_view_name": "HTMLView",
            "style": "IPY_MODEL_28c43abf42cc431da9bd37e313455cd1",
            "_dom_classes": [],
            "description": "",
            "_model_name": "HTMLModel",
            "placeholder": "​",
            "_view_module": "@jupyter-widgets/controls",
            "_model_module_version": "1.5.0",
            "value": " 83.3M/83.3M [00:00&lt;00:00, 166MB/s]",
            "_view_count": null,
            "_view_module_version": "1.5.0",
            "description_tooltip": null,
            "_model_module": "@jupyter-widgets/controls",
            "layout": "IPY_MODEL_a71996cc597f464da9479284de2fc2bb"
          }
        },
        "c2336c2134314f409c4f8406c50a4c93": {
          "model_module": "@jupyter-widgets/controls",
          "model_name": "DescriptionStyleModel",
          "model_module_version": "1.5.0",
          "state": {
            "_view_name": "StyleView",
            "_model_name": "DescriptionStyleModel",
            "description_width": "",
            "_view_module": "@jupyter-widgets/base",
            "_model_module_version": "1.5.0",
            "_view_count": null,
            "_view_module_version": "1.2.0",
            "_model_module": "@jupyter-widgets/controls"
          }
        },
        "8790ecb66d1846db9c26dac049e2b63c": {
          "model_module": "@jupyter-widgets/base",
          "model_name": "LayoutModel",
          "model_module_version": "1.2.0",
          "state": {
            "_view_name": "LayoutView",
            "grid_template_rows": null,
            "right": null,
            "justify_content": null,
            "_view_module": "@jupyter-widgets/base",
            "overflow": null,
            "_model_module_version": "1.2.0",
            "_view_count": null,
            "flex_flow": null,
            "width": null,
            "min_width": null,
            "border": null,
            "align_items": null,
            "bottom": null,
            "_model_module": "@jupyter-widgets/base",
            "top": null,
            "grid_column": null,
            "overflow_y": null,
            "overflow_x": null,
            "grid_auto_flow": null,
            "grid_area": null,
            "grid_template_columns": null,
            "flex": null,
            "_model_name": "LayoutModel",
            "justify_items": null,
            "grid_row": null,
            "max_height": null,
            "align_content": null,
            "visibility": null,
            "align_self": null,
            "height": null,
            "min_height": null,
            "padding": null,
            "grid_auto_rows": null,
            "grid_gap": null,
            "max_width": null,
            "order": null,
            "_view_module_version": "1.2.0",
            "grid_template_areas": null,
            "object_position": null,
            "object_fit": null,
            "grid_auto_columns": null,
            "margin": null,
            "display": null,
            "left": null
          }
        },
        "ce4dc1c8e86c43a18930e683b27ffbf7": {
          "model_module": "@jupyter-widgets/controls",
          "model_name": "ProgressStyleModel",
          "model_module_version": "1.5.0",
          "state": {
            "_view_name": "StyleView",
            "_model_name": "ProgressStyleModel",
            "description_width": "",
            "_view_module": "@jupyter-widgets/base",
            "_model_module_version": "1.5.0",
            "_view_count": null,
            "_view_module_version": "1.2.0",
            "bar_color": null,
            "_model_module": "@jupyter-widgets/controls"
          }
        },
        "cb6a3c8543514f49b52e58cf295c2901": {
          "model_module": "@jupyter-widgets/base",
          "model_name": "LayoutModel",
          "model_module_version": "1.2.0",
          "state": {
            "_view_name": "LayoutView",
            "grid_template_rows": null,
            "right": null,
            "justify_content": null,
            "_view_module": "@jupyter-widgets/base",
            "overflow": null,
            "_model_module_version": "1.2.0",
            "_view_count": null,
            "flex_flow": null,
            "width": null,
            "min_width": null,
            "border": null,
            "align_items": null,
            "bottom": null,
            "_model_module": "@jupyter-widgets/base",
            "top": null,
            "grid_column": null,
            "overflow_y": null,
            "overflow_x": null,
            "grid_auto_flow": null,
            "grid_area": null,
            "grid_template_columns": null,
            "flex": null,
            "_model_name": "LayoutModel",
            "justify_items": null,
            "grid_row": null,
            "max_height": null,
            "align_content": null,
            "visibility": null,
            "align_self": null,
            "height": null,
            "min_height": null,
            "padding": null,
            "grid_auto_rows": null,
            "grid_gap": null,
            "max_width": null,
            "order": null,
            "_view_module_version": "1.2.0",
            "grid_template_areas": null,
            "object_position": null,
            "object_fit": null,
            "grid_auto_columns": null,
            "margin": null,
            "display": null,
            "left": null
          }
        },
        "28c43abf42cc431da9bd37e313455cd1": {
          "model_module": "@jupyter-widgets/controls",
          "model_name": "DescriptionStyleModel",
          "model_module_version": "1.5.0",
          "state": {
            "_view_name": "StyleView",
            "_model_name": "DescriptionStyleModel",
            "description_width": "",
            "_view_module": "@jupyter-widgets/base",
            "_model_module_version": "1.5.0",
            "_view_count": null,
            "_view_module_version": "1.2.0",
            "_model_module": "@jupyter-widgets/controls"
          }
        },
        "a71996cc597f464da9479284de2fc2bb": {
          "model_module": "@jupyter-widgets/base",
          "model_name": "LayoutModel",
          "model_module_version": "1.2.0",
          "state": {
            "_view_name": "LayoutView",
            "grid_template_rows": null,
            "right": null,
            "justify_content": null,
            "_view_module": "@jupyter-widgets/base",
            "overflow": null,
            "_model_module_version": "1.2.0",
            "_view_count": null,
            "flex_flow": null,
            "width": null,
            "min_width": null,
            "border": null,
            "align_items": null,
            "bottom": null,
            "_model_module": "@jupyter-widgets/base",
            "top": null,
            "grid_column": null,
            "overflow_y": null,
            "overflow_x": null,
            "grid_auto_flow": null,
            "grid_area": null,
            "grid_template_columns": null,
            "flex": null,
            "_model_name": "LayoutModel",
            "justify_items": null,
            "grid_row": null,
            "max_height": null,
            "align_content": null,
            "visibility": null,
            "align_self": null,
            "height": null,
            "min_height": null,
            "padding": null,
            "grid_auto_rows": null,
            "grid_gap": null,
            "max_width": null,
            "order": null,
            "_view_module_version": "1.2.0",
            "grid_template_areas": null,
            "object_position": null,
            "object_fit": null,
            "grid_auto_columns": null,
            "margin": null,
            "display": null,
            "left": null
          }
        }
      }
    }
  },
  "cells": [
    {
      "cell_type": "markdown",
      "metadata": {
        "id": "view-in-github",
        "colab_type": "text"
      },
      "source": [
        "<a href=\"https://colab.research.google.com/github/Ricardojnf33/RedesNeurais_ClassificationImage/blob/main/Neural_Network_Lion_tiger_cow.ipynb\" target=\"_parent\"><img src=\"https://colab.research.google.com/assets/colab-badge.svg\" alt=\"Open In Colab\"/></a>"
      ]
    },
    {
      "cell_type": "markdown",
      "source": [
        "###Projeto de Redes Neurais - Professor : Vitor Casadei\n",
        "\n",
        "###Aluno Ricardo José Nunes Fernandes\n",
        "\n",
        "###Dataset  - Lion ; Tiger ; Cow"
      ],
      "metadata": {
        "id": "-6vAMX-Eql0o"
      }
    },
    {
      "cell_type": "markdown",
      "source": [
        "##Overview\n",
        "\n",
        "Foi utilizado um dataset composto por três classes ( Lion ; Tiger ; Cow ), retirados do google imagens, organizados e postados em meu github (Ricardojnf33-https://github.com/Ricardojnf33/RedesNeurais_ClassificationImage). Os dados estão divididos em dois conjuntos: \"train\" e \"val\" e são compostos por 333 iamgens de cada classe, totalizando 999 imagens.\n",
        "\n",
        "Abaixo está a maneira de preparar os dados:"
      ],
      "metadata": {
        "id": "V4j5IMM2siGF"
      }
    },
    {
      "cell_type": "code",
      "execution_count": null,
      "metadata": {
        "id": "ULIgTGeRpw2b"
      },
      "outputs": [],
      "source": [
        "!rm -rf RedesNeurais_ClassificationImage/ val/ PetImages/ PetImagesPetImages/ PetImagesval/"
      ]
    },
    {
      "cell_type": "markdown",
      "source": [
        "##Realizando o clone do repositório ( Github )"
      ],
      "metadata": {
        "id": "l7EqbmTXZGtS"
      }
    },
    {
      "cell_type": "code",
      "source": [
        "!git clone https://github.com/Ricardojnf33/RedesNeurais_ClassificationImage.git"
      ],
      "metadata": {
        "colab": {
          "base_uri": "https://localhost:8080/"
        },
        "id": "iA6uihwipzwg",
        "outputId": "20f443b9-427b-4298-9500-5a4c19a2b5c4"
      },
      "execution_count": 1,
      "outputs": [
        {
          "output_type": "stream",
          "name": "stdout",
          "text": [
            "Cloning into 'RedesNeurais_ClassificationImage'...\n",
            "remote: Enumerating objects: 390, done.\u001b[K\n",
            "remote: Total 390 (delta 0), reused 0 (delta 0), pack-reused 390\u001b[K\n",
            "Receiving objects: 100% (390/390), 212.49 MiB | 27.22 MiB/s, done.\n",
            "Resolving deltas: 100% (21/21), done.\n",
            "Checking out files: 100% (1000/1000), done.\n"
          ]
        }
      ]
    },
    {
      "cell_type": "markdown",
      "source": [
        "##Pré-processameto de dados"
      ],
      "metadata": {
        "id": "P7XJsfLZCWO3"
      }
    },
    {
      "cell_type": "markdown",
      "source": [
        "##Reorganizando pastas para criação de diretórios"
      ],
      "metadata": {
        "id": "q4Hksx9AZSV4"
      }
    },
    {
      "cell_type": "code",
      "source": [
        "import os\n",
        "import shutil\n",
        "import re\n",
        "\n",
        "base_dir = \"train\"\n",
        "try:\n",
        "    os.makedirs(\"train\")\n",
        "except OSError:\n",
        "    print (\"Creation of the directory %s failed\")\n",
        "else:\n",
        "    print (\"Successfully created the directory %s \")\n",
        "dataset_dir = \"NLP_Pipline_/train\"\n",
        "\n",
        "# Criar pasta de treinamento\n",
        "files = os.listdir(base_dir)\n",
        "\n",
        "# Mova todas as imagens de treinamento de leões para a pasta de leões, imagens de treinamento de tigres para a pasta de tigres e imagens de treinamento de vacas para a pasta vacas\n",
        "def train_maker(name):\n",
        "  try:\n",
        "      path = f\"{base_dir}/train/{name}\"\n",
        "      os.makedirs(path, exist_ok=True)\n",
        "  except OSError:\n",
        "      print (\"Creation of the directory failed\")\n",
        "  else:\n",
        "      print (\"Successfully created the directory\")\n",
        "  print(\"here\")\n",
        "  train_dir = f\"{base_dir}/train/{name}\"\n",
        "  print(train_dir)\n",
        "  files = os.listdir(dataset_dir)\n",
        "  print(files)\n",
        "  \n",
        "  for f in files:\n",
        "        search_object = re.search(name.lower(), f)\n",
        "        print(search_object)\n",
        "        if search_object:\n",
        "          shutil.move(f'{dataset_dir}/{f}', train_dir)\n",
        "\n",
        "train_maker(\"neg\")\n",
        "train_maker(\"pos\")"
      ],
      "metadata": {
        "colab": {
          "base_uri": "https://localhost:8080/",
          "height": 408
        },
        "id": "Ew2FR9Xbp4Ty",
        "outputId": "a749c4ba-e6b3-4dda-cadb-b7744a0e7506"
      },
      "execution_count": null,
      "outputs": [
        {
          "output_type": "stream",
          "name": "stdout",
          "text": [
            "Successfully created the directory %s \n",
            "Successfully created the directory\n",
            "here\n",
            "train/train/neg\n"
          ]
        },
        {
          "output_type": "error",
          "ename": "FileNotFoundError",
          "evalue": "ignored",
          "traceback": [
            "\u001b[0;31m---------------------------------------------------------------------------\u001b[0m",
            "\u001b[0;31mFileNotFoundError\u001b[0m                         Traceback (most recent call last)",
            "\u001b[0;32m<ipython-input-3-96cfaf7e80eb>\u001b[0m in \u001b[0;36m<module>\u001b[0;34m()\u001b[0m\n\u001b[1;32m     36\u001b[0m           \u001b[0mshutil\u001b[0m\u001b[0;34m.\u001b[0m\u001b[0mmove\u001b[0m\u001b[0;34m(\u001b[0m\u001b[0;34mf'{dataset_dir}/{f}'\u001b[0m\u001b[0;34m,\u001b[0m \u001b[0mtrain_dir\u001b[0m\u001b[0;34m)\u001b[0m\u001b[0;34m\u001b[0m\u001b[0;34m\u001b[0m\u001b[0m\n\u001b[1;32m     37\u001b[0m \u001b[0;34m\u001b[0m\u001b[0m\n\u001b[0;32m---> 38\u001b[0;31m \u001b[0mtrain_maker\u001b[0m\u001b[0;34m(\u001b[0m\u001b[0;34m\"neg\"\u001b[0m\u001b[0;34m)\u001b[0m\u001b[0;34m\u001b[0m\u001b[0;34m\u001b[0m\u001b[0m\n\u001b[0m\u001b[1;32m     39\u001b[0m \u001b[0mtrain_maker\u001b[0m\u001b[0;34m(\u001b[0m\u001b[0;34m\"pos\"\u001b[0m\u001b[0;34m)\u001b[0m\u001b[0;34m\u001b[0m\u001b[0;34m\u001b[0m\u001b[0m\n",
            "\u001b[0;32m<ipython-input-3-96cfaf7e80eb>\u001b[0m in \u001b[0;36mtrain_maker\u001b[0;34m(name)\u001b[0m\n\u001b[1;32m     27\u001b[0m   \u001b[0mtrain_dir\u001b[0m \u001b[0;34m=\u001b[0m \u001b[0;34mf\"{base_dir}/train/{name}\"\u001b[0m\u001b[0;34m\u001b[0m\u001b[0;34m\u001b[0m\u001b[0m\n\u001b[1;32m     28\u001b[0m   \u001b[0mprint\u001b[0m\u001b[0;34m(\u001b[0m\u001b[0mtrain_dir\u001b[0m\u001b[0;34m)\u001b[0m\u001b[0;34m\u001b[0m\u001b[0;34m\u001b[0m\u001b[0m\n\u001b[0;32m---> 29\u001b[0;31m   \u001b[0mfiles\u001b[0m \u001b[0;34m=\u001b[0m \u001b[0mos\u001b[0m\u001b[0;34m.\u001b[0m\u001b[0mlistdir\u001b[0m\u001b[0;34m(\u001b[0m\u001b[0mdataset_dir\u001b[0m\u001b[0;34m)\u001b[0m\u001b[0;34m\u001b[0m\u001b[0;34m\u001b[0m\u001b[0m\n\u001b[0m\u001b[1;32m     30\u001b[0m   \u001b[0mprint\u001b[0m\u001b[0;34m(\u001b[0m\u001b[0mfiles\u001b[0m\u001b[0;34m)\u001b[0m\u001b[0;34m\u001b[0m\u001b[0;34m\u001b[0m\u001b[0m\n\u001b[1;32m     31\u001b[0m \u001b[0;34m\u001b[0m\u001b[0m\n",
            "\u001b[0;31mFileNotFoundError\u001b[0m: [Errno 2] No such file or directory: 'NLP_Pipline_/train'"
          ]
        }
      ]
    },
    {
      "cell_type": "markdown",
      "source": [
        "##Criando diretórios e pastas de validação"
      ],
      "metadata": {
        "id": "2To1hgQSZ5sR"
      }
    },
    {
      "cell_type": "code",
      "source": [
        "# Criando diretórios de validação\n",
        "try:\n",
        "    path = base_dir + \"/val/lion\"\n",
        "    os.makedirs(path, exist_ok=True)\n",
        "    path = base_dir + \"/val/tiger\"\n",
        "    os.makedirs(path, exist_ok=True)\n",
        "    path = base_dir + \"/val/cow\"\n",
        "    os.makedirs(path, exist_ok=True)\n",
        "except OSError:\n",
        "    print (\"Creation of the directory failed\")\n",
        "else:\n",
        "    print (\"Successfully created the directory\")"
      ],
      "metadata": {
        "colab": {
          "base_uri": "https://localhost:8080/"
        },
        "id": "DiFfWKz6ha4b",
        "outputId": "7f3a406d-fc6a-48e9-a6a5-f8b4c5cb2136"
      },
      "execution_count": null,
      "outputs": [
        {
          "output_type": "stream",
          "name": "stdout",
          "text": [
            "Successfully created the directory\n"
          ]
        }
      ]
    },
    {
      "cell_type": "code",
      "source": [
        "# Criando pasta de validação\n",
        "\n",
        "lion_train = base_dir + \"/train/lion\"\n",
        "lion_val = base_dir + \"/val/lion/\"\n",
        "tiger_train = base_dir + \"/train/tiger/\"\n",
        "tiger_val = base_dir + \"/val/tiger/\"\n",
        "cow_train = base_dir + \"/train/cow/\"\n",
        "cow_val = base_dir + \"/val/cow/\"\n",
        "lion_files = os.listdir(lion_train)\n",
        "tiger_files = os.listdir(tiger_train)\n",
        "cow_files = os.listdir(cow_train)"
      ],
      "metadata": {
        "id": "uEt-0rR4hbWX"
      },
      "execution_count": null,
      "outputs": []
    },
    {
      "cell_type": "code",
      "source": [
        "print(lion_files)"
      ],
      "metadata": {
        "colab": {
          "base_uri": "https://localhost:8080/"
        },
        "id": "-BloE8bchbY9",
        "outputId": "363b9972-0960-488f-8cd0-539a93868646"
      },
      "execution_count": null,
      "outputs": [
        {
          "output_type": "stream",
          "name": "stdout",
          "text": [
            "['lion_257.jpg', 'lion_37.jpg', 'lion_455.jpg', 'lion_239.jpg', 'lion_10.jpg', 'lion_271.jpg', 'lion_147.jpg', 'lion_61.jpg', 'lion_276.jpg', 'lion_36.jpg', 'lion_243.jpg', 'lion_66.jpg', 'lion_225.jpg', 'lion_286.jpg', 'lion_162.jpg', 'lion_349.jpg', 'lion_12.jpg', 'lion_99.jpg', 'lion_71.jpg', 'lion_339.jpg', 'lion_329.jpg', 'lion_459.jpg', 'lion_410.jpg', 'lion_298.jpg', 'lion_181.jpg', 'lion_312.jpg', 'lion_92.jpg', 'lion_207.jpg', 'lion_39.jpg', 'lion_127.jpg', 'lion_413.jpg', 'lion_230.jpg', 'lion_112.jpg', 'lion_83.jpg', 'lion_371.jpg', 'lion_321.jpg', 'lion_354.jpg', 'lion_191.jpg', 'lion_255.jpg', 'lion_60.jpg', 'lion_274.jpg', 'lion_391.jpg', 'lion_90.jpg', 'lion_429.jpg', 'lion_268.jpg', 'lion_164.jpg', 'lion_362.jpg', 'lion_379.jpg', 'lion_17.jpg', 'lion_220.jpg', 'lion_355.jpg', 'lion_222.jpg', 'lion_205.jpg', 'lion_105.jpg', 'lion_82.jpg', 'lion_101.jpg', 'lion_287.jpg', 'lion_364.jpg', 'lion_219.jpg', 'lion_381.jpg', 'lion_411.jpg', 'lion_131.jpg', 'lion_166.jpg', 'lion_284.jpg', 'lion_285.jpg', 'lion_217.jpg', 'lion_129.jpg', 'lion_293.jpg', 'lion_224.jpg', 'lion_236.jpg', 'lion_152.jpg', 'lion_41.jpg', 'lion_302.jpg', 'lion_368.jpg', 'lion_51.jpg', 'lion_43.jpg', 'lion_353.jpg', 'lion_55.jpg', 'lion_132.jpg', 'lion_44.jpg', 'lion_425.jpg', 'lion_176.jpg', 'lion_350.jpg', 'lion_246.jpg', 'lion_175.jpg', 'lion_42.jpg', 'lion_218.jpg', 'lion_153.jpg', 'lion_407.jpg', 'lion_348.jpg', 'lion_68.jpg', 'lion_326.jpg', 'lion_171.jpg', 'lion_9.jpg', 'lion_428.jpg', 'lion_100.jpg', 'lion_344.jpg', 'lion_404.jpg', 'lion_201.jpg', 'lion_126.jpg', 'lion_318.jpg', 'lion_385.jpg', 'lion_357.jpg', 'lion_87.jpg', 'lion_461.jpg', 'lion_57.jpg', 'lion_149.jpg', 'lion_408.jpg', 'lion_137.jpg', 'lion_103.jpg', 'lion_53.jpg', 'lion_259.jpg', 'lion_79.jpg', 'lion_278.jpg', 'lion_377.jpg', 'lion_144.jpg', 'lion_161.jpg', 'lion_358.jpg', 'lion_267.jpg', 'lion_108.jpg', 'lion_442.jpg', 'lion_226.jpg', 'lion_288.jpg', 'lion_85.jpg', 'lion_199.jpg', 'lion_134.jpg', 'lion_84.jpg', 'lion_396.jpg', 'lion_125.jpg', 'lion_23.jpg', 'lion_110.jpg', 'lion_453.jpg', 'lion_209.jpg', 'lion_366.jpg', 'lion_124.jpg', 'lion_440.jpg', 'lion_155.jpg', 'lion_322.jpg', 'lion_352.jpg', 'lion_107.jpg', 'lion_296.jpg', 'lion_19.jpg', 'lion_106.jpg', 'lion_264.jpg', 'lion_172.jpg', 'lion_62.jpg', 'lion_454.jpg', 'lion_443.jpg', 'lion_203.jpg', 'lion_154.jpg', 'lion_143.jpg', 'lion_128.jpg', 'lion_245.jpg', 'lion_361.jpg', 'lion_451.jpg', 'lion_182.jpg', 'lion_231.jpg', 'lion_98.jpg', 'lion_16.jpg', 'lion_77.jpg', 'lion_133.jpg', 'lion_380.jpg', 'lion_148.jpg', 'lion_295.jpg', 'lion_174.jpg', 'lion_67.jpg', 'lion_228.jpg', 'lion_254.jpg', 'lion_111.jpg', 'lion_261.jpg', 'lion_135.jpg', 'lion_168.jpg', 'lion_14.jpg', 'lion_297.jpg', 'lion_313.jpg', 'lion_356.jpg', 'lion_242.jpg', 'lion_146.jpg', 'lion_102.jpg', 'lion_422.jpg', 'lion_420.jpg', 'lion_327.jpg', 'lion_369.jpg', 'lion_310.jpg', 'lion_346.jpg', 'lion_395.jpg', 'lion_193.jpg', 'lion_338.jpg', 'lion_54.jpg', 'lion_32.jpg', 'lion_86.jpg', 'lion_159.jpg', 'lion_240.jpg', 'lion_291.jpg', 'lion_194.jpg', 'lion_169.jpg', 'lion_117.jpg', 'lion_158.jpg', 'lion_417.jpg', 'lion_272.jpg', 'lion_347.jpg', 'lion_258.jpg', 'lion_330.jpg', 'lion_382.jpg', 'lion_393.jpg', 'lion_270.jpg', 'lion_76.jpg', 'lion_13.jpg', 'lion_141.jpg', 'lion_340.jpg', 'lion_177.jpg', 'lion_234.jpg', 'lion_332.jpg', 'lion_388.jpg', 'lion_292.jpg', 'lion_73.jpg', 'lion_319.jpg', 'lion_446.jpg', 'lion_317.jpg', 'lion_456.jpg', 'lion_445.jpg', 'lion_65.jpg', 'lion_253.jpg', 'lion_237.jpg', 'lion_74.jpg', 'lion_433.jpg', 'lion_48.jpg', 'lion_247.jpg', 'lion_403.jpg', 'lion_150.jpg', 'lion_200.jpg', 'lion_221.jpg', 'lion_431.jpg', 'lion_178.jpg', 'lion_448.jpg', 'lion_324.jpg', 'lion_303.jpg', 'lion_387.jpg', 'lion_81.jpg', 'lion_471.jpg', 'lion_196.jpg', 'lion_250.jpg', 'lion_35.jpg', 'lion_438.jpg', 'lion_252.jpg', 'lion_47.jpg', 'lion_248.jpg', 'lion_316.jpg', 'lion_434.jpg', 'lion_140.jpg', 'lion_449.jpg', 'lion_323.jpg', 'lion_273.jpg', 'lion_56.jpg', 'lion_363.jpg', 'lion_426.jpg', 'lion_227.jpg', 'lion_192.jpg', 'lion_116.jpg', 'lion_458.jpg', 'lion_33.jpg', 'lion_416.jpg', 'lion_8.jpg', 'lion_262.jpg', 'lion_75.jpg', 'lion_406.jpg', 'lion_447.jpg', 'lion_345.jpg', 'lion_265.jpg', 'lion_7.jpg', 'lion_335.jpg', 'lion_59.jpg', 'lion_419.jpg', 'lion_198.jpg', 'lion_202.jpg', 'lion_64.jpg', 'lion_378.jpg', 'lion_389.jpg', 'lion_5.jpg', 'lion_462.jpg', 'lion_157.jpg', 'lion_289.jpg', 'lion_256.jpg', 'lion_437.jpg', 'lion_336.jpg', 'lion_78.jpg', 'lion_334.jpg', 'lion_470.jpg', 'lion_365.jpg', 'lion_45.jpg', 'lion_18.jpg', 'lion_412.jpg', 'lion_405.jpg', 'lion_6.jpg', 'lion_333.jpg', 'lion_210.jpg', 'lion_444.jpg', 'lion_109.jpg', 'lion_223.jpg', 'lion_136.jpg', 'lion_390.jpg', 'lion_130.jpg', 'lion_170.jpg', 'lion_457.jpg', 'lion_351.jpg', 'lion_72.jpg', 'lion_263.jpg', 'lion_15.jpg', 'lion_34.jpg', 'lion_300.jpg', 'lion_427.jpg', 'lion_436.jpg', 'lion_24.jpg', 'lion_165.jpg', 'lion_163.jpg', 'lion_260.jpg', 'lion_314.jpg', 'lion_441.jpg', 'lion_195.jpg', 'lion_460.jpg', 'lion_40.jpg', 'lion_311.jpg', 'lion_423.jpg', 'lion_241.jpg', 'lion_439.jpg', 'lion_386.jpg', 'lion_69.jpg', 'lion_180.jpg', 'lion_183.jpg', 'lion_233.jpg', 'lion_343.jpg', 'lion_367.jpg', 'lion_38.jpg']\n"
          ]
        }
      ]
    },
    {
      "cell_type": "markdown",
      "source": [
        "##Retirando imagens das pastas de treino e inserindo nas suas respectivas pastas de validação"
      ],
      "metadata": {
        "id": "gtMjHkXgaMWe"
      }
    },
    {
      "cell_type": "code",
      "source": [
        "# Retirando imagens das pastas de treino e inserindo nas suas respectivas pastas de validação\n",
        "\n",
        "for f in lion_files:\n",
        "    validationCatsSearchObj = re.search(\"\\d\\d\\d\", f)\n",
        "    if validationCatsSearchObj:\n",
        "        shutil.move(f'{lion_train}/{f}', lion_val)\n",
        "\n",
        "for f in tiger_files:\n",
        "    validationCatsSearchObj = re.search(\"\\d\\d\\d\", f)\n",
        "    if validationCatsSearchObj:\n",
        "        shutil.move(f'{tiger_train}/{f}', tiger_val)\n",
        "\n",
        "for f in cow_files:\n",
        "    validationCatsSearchObj = re.search(\"\\d\\d\\d\", f)\n",
        "    if validationCatsSearchObj:\n",
        "        shutil.move(f'{cow_train}/{f}', cow_val)"
      ],
      "metadata": {
        "id": "pN8QZvp0hbbn"
      },
      "execution_count": null,
      "outputs": []
    },
    {
      "cell_type": "code",
      "source": [
        "!ls PetImages/val/lion/"
      ],
      "metadata": {
        "colab": {
          "base_uri": "https://localhost:8080/"
        },
        "id": "_2il876ChbeU",
        "outputId": "23f87ddf-f636-4e9b-aea8-7883f1bf1ab8"
      },
      "execution_count": null,
      "outputs": [
        {
          "output_type": "stream",
          "name": "stdout",
          "text": [
            "lion_100.jpg  lion_171.jpg  lion_248.jpg  lion_324.jpg\tlion_395.jpg\n",
            "lion_101.jpg  lion_172.jpg  lion_250.jpg  lion_326.jpg\tlion_396.jpg\n",
            "lion_102.jpg  lion_174.jpg  lion_252.jpg  lion_327.jpg\tlion_403.jpg\n",
            "lion_103.jpg  lion_175.jpg  lion_253.jpg  lion_329.jpg\tlion_404.jpg\n",
            "lion_105.jpg  lion_176.jpg  lion_254.jpg  lion_330.jpg\tlion_405.jpg\n",
            "lion_106.jpg  lion_177.jpg  lion_255.jpg  lion_332.jpg\tlion_406.jpg\n",
            "lion_107.jpg  lion_178.jpg  lion_256.jpg  lion_333.jpg\tlion_407.jpg\n",
            "lion_108.jpg  lion_180.jpg  lion_257.jpg  lion_334.jpg\tlion_408.jpg\n",
            "lion_109.jpg  lion_181.jpg  lion_258.jpg  lion_335.jpg\tlion_410.jpg\n",
            "lion_110.jpg  lion_182.jpg  lion_259.jpg  lion_336.jpg\tlion_411.jpg\n",
            "lion_111.jpg  lion_183.jpg  lion_260.jpg  lion_338.jpg\tlion_412.jpg\n",
            "lion_112.jpg  lion_191.jpg  lion_261.jpg  lion_339.jpg\tlion_413.jpg\n",
            "lion_116.jpg  lion_192.jpg  lion_262.jpg  lion_340.jpg\tlion_416.jpg\n",
            "lion_117.jpg  lion_193.jpg  lion_263.jpg  lion_343.jpg\tlion_417.jpg\n",
            "lion_124.jpg  lion_194.jpg  lion_264.jpg  lion_344.jpg\tlion_419.jpg\n",
            "lion_125.jpg  lion_195.jpg  lion_265.jpg  lion_345.jpg\tlion_420.jpg\n",
            "lion_126.jpg  lion_196.jpg  lion_267.jpg  lion_346.jpg\tlion_422.jpg\n",
            "lion_127.jpg  lion_198.jpg  lion_268.jpg  lion_347.jpg\tlion_423.jpg\n",
            "lion_128.jpg  lion_199.jpg  lion_270.jpg  lion_348.jpg\tlion_425.jpg\n",
            "lion_129.jpg  lion_200.jpg  lion_271.jpg  lion_349.jpg\tlion_426.jpg\n",
            "lion_130.jpg  lion_201.jpg  lion_272.jpg  lion_350.jpg\tlion_427.jpg\n",
            "lion_131.jpg  lion_202.jpg  lion_273.jpg  lion_351.jpg\tlion_428.jpg\n",
            "lion_132.jpg  lion_203.jpg  lion_274.jpg  lion_352.jpg\tlion_429.jpg\n",
            "lion_133.jpg  lion_205.jpg  lion_276.jpg  lion_353.jpg\tlion_431.jpg\n",
            "lion_134.jpg  lion_207.jpg  lion_278.jpg  lion_354.jpg\tlion_433.jpg\n",
            "lion_135.jpg  lion_209.jpg  lion_284.jpg  lion_355.jpg\tlion_434.jpg\n",
            "lion_136.jpg  lion_210.jpg  lion_285.jpg  lion_356.jpg\tlion_436.jpg\n",
            "lion_137.jpg  lion_217.jpg  lion_286.jpg  lion_357.jpg\tlion_437.jpg\n",
            "lion_140.jpg  lion_218.jpg  lion_287.jpg  lion_358.jpg\tlion_438.jpg\n",
            "lion_141.jpg  lion_219.jpg  lion_288.jpg  lion_361.jpg\tlion_439.jpg\n",
            "lion_143.jpg  lion_220.jpg  lion_289.jpg  lion_362.jpg\tlion_440.jpg\n",
            "lion_144.jpg  lion_221.jpg  lion_291.jpg  lion_363.jpg\tlion_441.jpg\n",
            "lion_146.jpg  lion_222.jpg  lion_292.jpg  lion_364.jpg\tlion_442.jpg\n",
            "lion_147.jpg  lion_223.jpg  lion_293.jpg  lion_365.jpg\tlion_443.jpg\n",
            "lion_148.jpg  lion_224.jpg  lion_295.jpg  lion_366.jpg\tlion_444.jpg\n",
            "lion_149.jpg  lion_225.jpg  lion_296.jpg  lion_367.jpg\tlion_445.jpg\n",
            "lion_150.jpg  lion_226.jpg  lion_297.jpg  lion_368.jpg\tlion_446.jpg\n",
            "lion_152.jpg  lion_227.jpg  lion_298.jpg  lion_369.jpg\tlion_447.jpg\n",
            "lion_153.jpg  lion_228.jpg  lion_300.jpg  lion_371.jpg\tlion_448.jpg\n",
            "lion_154.jpg  lion_230.jpg  lion_302.jpg  lion_377.jpg\tlion_449.jpg\n",
            "lion_155.jpg  lion_231.jpg  lion_303.jpg  lion_378.jpg\tlion_451.jpg\n",
            "lion_157.jpg  lion_233.jpg  lion_310.jpg  lion_379.jpg\tlion_453.jpg\n",
            "lion_158.jpg  lion_234.jpg  lion_311.jpg  lion_380.jpg\tlion_454.jpg\n",
            "lion_159.jpg  lion_236.jpg  lion_312.jpg  lion_381.jpg\tlion_455.jpg\n",
            "lion_161.jpg  lion_237.jpg  lion_313.jpg  lion_382.jpg\tlion_456.jpg\n",
            "lion_162.jpg  lion_239.jpg  lion_314.jpg  lion_385.jpg\tlion_457.jpg\n",
            "lion_163.jpg  lion_240.jpg  lion_316.jpg  lion_386.jpg\tlion_458.jpg\n",
            "lion_164.jpg  lion_241.jpg  lion_317.jpg  lion_387.jpg\tlion_459.jpg\n",
            "lion_165.jpg  lion_242.jpg  lion_318.jpg  lion_388.jpg\tlion_460.jpg\n",
            "lion_166.jpg  lion_243.jpg  lion_319.jpg  lion_389.jpg\tlion_461.jpg\n",
            "lion_168.jpg  lion_245.jpg  lion_321.jpg  lion_390.jpg\tlion_462.jpg\n",
            "lion_169.jpg  lion_246.jpg  lion_322.jpg  lion_391.jpg\tlion_470.jpg\n",
            "lion_170.jpg  lion_247.jpg  lion_323.jpg  lion_393.jpg\tlion_471.jpg\n"
          ]
        }
      ]
    },
    {
      "cell_type": "markdown",
      "source": [
        "##Importando bibliotecas"
      ],
      "metadata": {
        "id": "Kb2SYaFga47K"
      }
    },
    {
      "cell_type": "code",
      "source": [
        "from __future__ import print_function, division\n",
        "\n",
        "import torch\n",
        "import torch.nn as nn\n",
        "import torch.optim as optim\n",
        "from torch.optim import lr_scheduler\n",
        "import torchvision\n",
        "from torchvision import datasets, models, transforms\n",
        "import matplotlib.pyplot as plt\n",
        "import numpy as np\n",
        "import time\n",
        "import os\n",
        "import copy"
      ],
      "metadata": {
        "id": "EpUjNdDOhbg_"
      },
      "execution_count": null,
      "outputs": []
    },
    {
      "cell_type": "markdown",
      "source": [
        "##Definindo transformações para aumentar a variabilidade das imagens, através de re-cálcuco de tamanhos, recortes de pedaços, rotações, normalização e transformações em Tensor. "
      ],
      "metadata": {
        "id": "xYbNJaXHbBk_"
      }
    },
    {
      "cell_type": "code",
      "source": [
        "# Faz transformações e use carregadores de dados (data loaders)\n",
        "# Usaremos muito isso, então faça com que sejam variáveis\n",
        "\n",
        "mean_nums = [0.485, 0.456, 0.406]\n",
        "std_nums = [0.229, 0.224, 0.225]\n",
        "\n",
        "chosen_transforms = {'train': transforms.Compose([\n",
        "        transforms.RandomResizedCrop(size=256),\n",
        "        transforms.RandomRotation(degrees=15),\n",
        "        transforms.RandomHorizontalFlip(),\n",
        "        transforms.ToTensor(),\n",
        "        transforms.Normalize(mean_nums, std_nums)\n",
        "]), 'val': transforms.Compose([\n",
        "        transforms.Resize(256),\n",
        "        transforms.CenterCrop(224),\n",
        "        transforms.ToTensor(),\n",
        "        transforms.Normalize(mean_nums, std_nums)\n",
        "]),\n",
        "}"
      ],
      "metadata": {
        "id": "sp9MN4i2hbjx"
      },
      "execution_count": null,
      "outputs": []
    },
    {
      "cell_type": "markdown",
      "source": [
        "##Construção do dataset"
      ],
      "metadata": {
        "id": "DqjHJAbwcae8"
      }
    },
    {
      "cell_type": "code",
      "source": [
        "# Defina o diretório para os dados\n",
        "data_dir = 'PetImages/'\n",
        "\n",
        "# Use a função de pasta de imagens para criar conjuntos de dados\n",
        "chosen_datasets = {x: datasets.ImageFolder(os.path.join(data_dir, x), chosen_transforms[x]) for x in ['train', 'val']}"
      ],
      "metadata": {
        "id": "tfmgIW99i67N"
      },
      "execution_count": null,
      "outputs": []
    },
    {
      "cell_type": "markdown",
      "source": [
        "##Criando dataloaders para obter imagens iteráveis"
      ],
      "metadata": {
        "id": "jFlAJKa2c88I"
      }
    },
    {
      "cell_type": "code",
      "source": [
        "# Faça iteráveis com os carregadores de dados\n",
        "dataloaders = {x: torch.utils.data.DataLoader(chosen_datasets[x], batch_size=4,\n",
        "  shuffle=True, num_workers=4)\n",
        "              for x in ['train', 'val']}"
      ],
      "metadata": {
        "colab": {
          "base_uri": "https://localhost:8080/"
        },
        "id": "ugllHCTvi69-",
        "outputId": "bbc224c9-d4cc-4a1e-a109-dddbb2bba440"
      },
      "execution_count": null,
      "outputs": [
        {
          "output_type": "stream",
          "name": "stderr",
          "text": [
            "/usr/local/lib/python3.7/dist-packages/torch/utils/data/dataloader.py:481: UserWarning: This DataLoader will create 4 worker processes in total. Our suggested max number of worker in current system is 2, which is smaller than what this DataLoader is going to create. Please be aware that excessive worker creation might get DataLoader running slow or even freeze, lower the worker number to avoid potential slowness/freeze if necessary.\n",
            "  cpuset_checked))\n"
          ]
        }
      ]
    },
    {
      "cell_type": "code",
      "source": [
        "dataloaders"
      ],
      "metadata": {
        "colab": {
          "base_uri": "https://localhost:8080/"
        },
        "id": "WINa7iyNi7Am",
        "outputId": "1404d618-8e9c-4620-87d1-42a107af2394"
      },
      "execution_count": null,
      "outputs": [
        {
          "output_type": "execute_result",
          "data": {
            "text/plain": [
              "{'train': <torch.utils.data.dataloader.DataLoader at 0x7fd70715d810>,\n",
              " 'val': <torch.utils.data.dataloader.DataLoader at 0x7fd606e8dd90>}"
            ]
          },
          "metadata": {},
          "execution_count": 17
        }
      ]
    },
    {
      "cell_type": "markdown",
      "source": [
        "##Vamos precisar preservar algumas informações sobre nosso conjunto de dados, especificando o tamanho do conjunto de dados, nomes das classes e especificando o tipo de dispositivo ( GPU )."
      ],
      "metadata": {
        "id": "9ivPhDyXidYJ"
      }
    },
    {
      "cell_type": "code",
      "source": [
        "dataset_sizes = {x: len(chosen_datasets[x]) for x in ['train', 'val']}\n",
        "class_names = chosen_datasets['train'].classes\n",
        "\n",
        "device = torch.device(\"cuda\" if torch.cuda.is_available() else \"cpu\")"
      ],
      "metadata": {
        "id": "Q2vEaUrUi7DU"
      },
      "execution_count": null,
      "outputs": []
    },
    {
      "cell_type": "markdown",
      "source": [
        "##Visualização de Datasets e Classes"
      ],
      "metadata": {
        "id": "tCM7L4_qdn-9"
      }
    },
    {
      "cell_type": "code",
      "source": [
        "print(dataset_sizes)\n",
        "print(class_names)"
      ],
      "metadata": {
        "colab": {
          "base_uri": "https://localhost:8080/"
        },
        "id": "wdVeSqwZi7GF",
        "outputId": "c747b0d8-3c97-4692-dac2-69d5cf2b56b1"
      },
      "execution_count": null,
      "outputs": [
        {
          "output_type": "stream",
          "name": "stdout",
          "text": [
            "{'train': 222, 'val': 776}\n",
            "['cow', 'lion', 'tiger']\n"
          ]
        }
      ]
    },
    {
      "cell_type": "markdown",
      "source": [
        "## Visualização de imagens com uma função. Pegando uma entrada, criando uma matriz Numpy a partir dela e a transpondo a mesma. Em seguida, normaliza-se a entrada usando média e desvio padrão. Por fim, recorta-se os valores entre 0 e 1 para que não haja um intervalo enorme nos valores possíveis do array e, em seguida, mostraremos a imagem:"
      ],
      "metadata": {
        "id": "HFEoMLi5duyr"
      }
    },
    {
      "cell_type": "code",
      "source": [
        "# Visualize algumas imagens\n",
        "def imshow(inp, title=None):\n",
        "    inp = inp.numpy().transpose((1, 2, 0))\n",
        "    mean = np.array([mean_nums])\n",
        "    std = np.array([std_nums])\n",
        "    inp = std * inp + mean\n",
        "    inp = np.clip(inp, 0, 1)\n",
        "    plt.imshow(inp)\n",
        "    if title is not None:\n",
        "        plt.title(title)\n",
        "    plt.pause(0.001)  # Pause um pouco para que os gráficos sejam atualizados"
      ],
      "metadata": {
        "id": "x48LehTgi7Ji"
      },
      "execution_count": null,
      "outputs": []
    },
    {
      "cell_type": "markdown",
      "source": [
        "##Visualizando alguns dos dados"
      ],
      "metadata": {
        "id": "UDYHELi1j3vK"
      }
    },
    {
      "cell_type": "code",
      "source": [
        "# Pegue alguns dos dados de treinamento para visualizar\n",
        "inputs, classes = next(iter(dataloaders['train']))\n",
        "\n",
        "# Agora construímos uma rede do lote\n",
        "out = torchvision.utils.make_grid(inputs)\n",
        "\n",
        "imshow(out, title=[class_names[x] for x in classes])"
      ],
      "metadata": {
        "colab": {
          "base_uri": "https://localhost:8080/",
          "height": 202
        },
        "id": "G2CwsqTfhbmQ",
        "outputId": "9f9364eb-a748-4ffe-e6d3-a63bb8b356bc"
      },
      "execution_count": null,
      "outputs": [
        {
          "output_type": "stream",
          "name": "stderr",
          "text": [
            "/usr/local/lib/python3.7/dist-packages/torch/utils/data/dataloader.py:481: UserWarning: This DataLoader will create 4 worker processes in total. Our suggested max number of worker in current system is 2, which is smaller than what this DataLoader is going to create. Please be aware that excessive worker creation might get DataLoader running slow or even freeze, lower the worker number to avoid potential slowness/freeze if necessary.\n",
            "  cpuset_checked))\n"
          ]
        },
        {
          "output_type": "display_data",
          "data": {
            "image/png": "[encoded data removed]",
            "text/plain": [
              "<Figure size 432x288 with 1 Axes>"
            ]
          },
          "metadata": {
            "needs_background": "light"
          }
        }
      ]
    },
    {
      "cell_type": "markdown",
      "source": [
        "##Realizando set do modelo e o download da resnet34 (Pré-treinada) para utilização dos pesos para treinamento"
      ],
      "metadata": {
        "id": "-lRrpEBBeWLy"
      }
    },
    {
      "cell_type": "code",
      "source": [
        "# Configurando o modelo\n",
        "# carregando pré-treinado e reset final totalmente conectado\n",
        "\n",
        "res_mod = models.resnet34(pretrained=True)\n",
        "\n",
        "num_ftrs = res_mod.fc.in_features\n",
        "res_mod.fc = nn.Linear(num_ftrs, 3)"
      ],
      "metadata": {
        "id": "hqfWn8Xiki9V",
        "colab": {
          "base_uri": "https://localhost:8080/",
          "height": 66,
          "referenced_widgets": [
            "b98ff94339e6476f9052d62e011f83d2",
            "0f51a33fddc444109d10b432be2b98b1",
            "cad3c0bc6b874589a56e1c161011f802",
            "1c17147e6d164dd78d29d43f33b0ea83",
            "f68dfd8e458c48fab606731f391849b4",
            "c2336c2134314f409c4f8406c50a4c93",
            "8790ecb66d1846db9c26dac049e2b63c",
            "ce4dc1c8e86c43a18930e683b27ffbf7",
            "cb6a3c8543514f49b52e58cf295c2901",
            "28c43abf42cc431da9bd37e313455cd1",
            "a71996cc597f464da9479284de2fc2bb"
          ]
        },
        "outputId": "0cee13cd-12ed-47ab-f78a-dbd00007ac08"
      },
      "execution_count": null,
      "outputs": [
        {
          "output_type": "stream",
          "name": "stderr",
          "text": [
            "Downloading: \"https://download.pytorch.org/models/resnet34-b627a593.pth\" to /root/.cache/torch/hub/checkpoints/resnet34-b627a593.pth\n"
          ]
        },
        {
          "output_type": "display_data",
          "data": {
            "application/vnd.jupyter.widget-view+json": {
              "model_id": "b98ff94339e6476f9052d62e011f83d2",
              "version_minor": 0,
              "version_major": 2
            },
            "text/plain": [
              "  0%|          | 0.00/83.3M [00:00<?, ?B/s]"
            ]
          },
          "metadata": {}
        }
      ]
    },
    {
      "cell_type": "markdown",
      "source": [
        "##Visualização da composição do modelo"
      ],
      "metadata": {
        "id": "VkciXn_GesJa"
      }
    },
    {
      "cell_type": "code",
      "source": [
        "for name, child in res_mod.named_children():\n",
        "    print(name)"
      ],
      "metadata": {
        "colab": {
          "base_uri": "https://localhost:8080/"
        },
        "id": "sUJYRuHLkjJ3",
        "outputId": "6440dc1c-2436-4cef-9f77-c95f7a3e83f1"
      },
      "execution_count": null,
      "outputs": [
        {
          "output_type": "stream",
          "name": "stdout",
          "text": [
            "conv1\n",
            "bn1\n",
            "relu\n",
            "maxpool\n",
            "layer1\n",
            "layer2\n",
            "layer3\n",
            "layer4\n",
            "avgpool\n",
            "fc\n"
          ]
        }
      ]
    },
    {
      "cell_type": "markdown",
      "source": [
        "##A parte final \"fc\" (Fully-Connected) é a camada que estamos modificando a forma, dando-a três classes de saída.Essencialmente, vamos alterar as saídas da parte final totalmente conectada para apenas duas classes e ajustar os pesos para todas as outras camadas. \n",
        "##Agora precisamos enviar nosso modelo para nosso dispositivo de treinamento. Também precisamos escolher o critério de perda e o otimizador que queremos usar com o modelo. CrossEntropyLoss e o otimizador SGD são boas escolhas, embora existam muitos outros.\n",
        "##Também escolheremos um agendador de taxa de aprendizado, que diminui a taxa de aprendizado do otimizador de horas extras e ajuda a evitar a não convergência devido a grandes taxas de aprendizado."
      ],
      "metadata": {
        "id": "MdI2lWEIk2Qy"
      }
    },
    {
      "cell_type": "code",
      "source": [
        "res_mod = res_mod.to(device)\n",
        "criterion = nn.CrossEntropyLoss()\n",
        "\n",
        "# Observe que todos os parâmetros estão sendo otimizados\n",
        "optimizer_ft = optim.SGD(res_mod.parameters(), lr=0.001, momentum=0.9)\n",
        "\n",
        "# Decai LR por um fator de 0,1 a cada 7 épocas\n",
        "exp_lr_scheduler = lr_scheduler.StepLR(optimizer_ft, step_size=7, gamma=0.1)"
      ],
      "metadata": {
        "id": "wcfElKlNkjN0"
      },
      "execution_count": null,
      "outputs": []
    },
    {
      "cell_type": "markdown",
      "source": [
        "##Definindo as funções que irão treinar o modelo e visualizar as previsões.Vamos começar com a função de treinamento. Levará em nosso modelo escolhido, bem como o otimizador, critério e escalonador que escolhemos. Também especificaremos um número padrão de épocas de treinamento. \n",
        "##Cada época terá uma fase de treinamento e validação. Para começar, definimos os melhores pesos iniciais do modelo para aqueles do modo pré-treinado, usando state_dict.\n",
        "##Agora, para cada época no número escolhido de épocas, se estivermos na fase de treinamento, iremos:\n",
        "\n",
        "## *Diminua a taxa de aprendizado\n",
        "## *Zere os gradientes\n",
        "## *Executar o passe de treinamento para a frente\n",
        "## *Calcule a perda\n",
        "## *Faça a \"back-propagation\" e atualize os pesos com o otimizador\n"
      ],
      "metadata": {
        "id": "To2QXyuAnUAA"
      }
    },
    {
      "cell_type": "code",
      "source": [
        "def train_model(model, criterion, optimizer, scheduler, num_epochs=10):\n",
        "    since = time.time()\n",
        "\n",
        "    best_model_wts = copy.deepcopy(model.state_dict())\n",
        "    best_acc = 0.0\n",
        "\n",
        "    for epoch in range(num_epochs):\n",
        "        print('Epoch {}/{}'.format(epoch, num_epochs - 1))\n",
        "        print('-' * 10)\n",
        "\n",
        "        # Cada época tem uma fase de treinamento e validação\n",
        "        for phase in ['train', 'val']:\n",
        "            if phase == 'train':\n",
        "                scheduler.step()\n",
        "                model.train()  # Definir modelo para o modo de treinamento\n",
        "            else:\n",
        "                model.eval()   # Definir modelo para o modo de treinamento\n",
        "\n",
        "            current_loss = 0.0\n",
        "            current_corrects = 0\n",
        "\n",
        "            # Aqui é onde o treinamento acontece\n",
        "            print('Iterating through data...')\n",
        "\n",
        "            for inputs, labels in dataloaders[phase]:\n",
        "                inputs = inputs.to(device)\n",
        "                labels = labels.to(device)\n",
        "\n",
        "                # Precisamos zerar os gradientes, não esqueça\n",
        "                optimizer.zero_grad()\n",
        "\n",
        "                # Hora de realizar o treinamento avançado poss\n",
        "                # Só precisamos registrar as estatísticas de perda se estivermos em fase de treinamento\n",
        "                with torch.set_grad_enabled(phase == 'train'):\n",
        "                    outputs = model(inputs)\n",
        "                    _, preds = torch.max(outputs, 1)\n",
        "                    loss = criterion(outputs, labels)\n",
        "\n",
        "                    # backward + optimize somente se estiver em fase de treinamento\n",
        "                    if phase == 'train':\n",
        "                        loss.backward()\n",
        "                        optimizer.step()\n",
        "\n",
        "                # Queremos que as variáveis mantenham as estatísticas de perda\n",
        "                current_loss += loss.item() * inputs.size(0)\n",
        "                current_corrects += torch.sum(preds == labels.data)\n",
        "\n",
        "            epoch_loss = current_loss / dataset_sizes[phase]\n",
        "            epoch_acc = current_corrects.double() / dataset_sizes[phase]\n",
        "\n",
        "            print('{} Loss: {:.4f} Acc: {:.4f}'.format(\n",
        "                phase, epoch_loss, epoch_acc))\n",
        "\n",
        "            # Faça uma cópia do modelo se a precisão no conjunto de validação melhorou\n",
        "            if phase == 'val' and epoch_acc > best_acc:\n",
        "                best_acc = epoch_acc\n",
        "                best_model_wts = copy.deepcopy(model.state_dict())\n",
        "\n",
        "        print()\n",
        "\n",
        "    time_since = time.time() - since\n",
        "    print('Training complete in {:.0f}m {:.0f}s'.format(\n",
        "        time_since // 60, time_since % 60))\n",
        "    print('Best val Acc: {:4f}'.format(best_acc))\n",
        "\n",
        "    # Agora vamos carregar \"best_model_wts\"(melhores pesos de modelo) e devolver\n",
        "    \n",
        "    model.load_state_dict(best_model_wts)\n",
        "    return model"
      ],
      "metadata": {
        "id": "ei_6d40EkjQy"
      },
      "execution_count": null,
      "outputs": []
    },
    {
      "cell_type": "markdown",
      "source": [
        "##Função para visualização das predições realizadas pelo modelo"
      ],
      "metadata": {
        "id": "3gM8ieYJosG8"
      }
    },
    {
      "cell_type": "code",
      "source": [
        "def visualize_model(model, num_images=12):\n",
        "    was_training = model.training\n",
        "    model.eval()\n",
        "    images_handeled = 0\n",
        "    fig = plt.figure()\n",
        "\n",
        "    with torch.no_grad():\n",
        "        for i, (inputs, labels) in enumerate(dataloaders['val']):\n",
        "            inputs = inputs.to(device)\n",
        "            labels = labels.to(device)\n",
        "\n",
        "            outputs = model(inputs)\n",
        "            _, preds = torch.max(outputs, 1)\n",
        "\n",
        "            for j in range(inputs.size()[0]):\n",
        "                images_handeled += 1\n",
        "                ax = plt.subplot(num_images//2, 2, images_handeled)\n",
        "                ax.axis('off')\n",
        "                ax.set_title('predicted: {}'.format(class_names[preds[j]]))\n",
        "                imshow(inputs.cpu().data[j])\n",
        "\n",
        "                if images_handeled == num_images:\n",
        "                    model.train(mode=was_training)\n",
        "                    return\n",
        "        model.train(mode=was_training)"
      ],
      "metadata": {
        "id": "SwiM2aRikjTp"
      },
      "execution_count": null,
      "outputs": []
    },
    {
      "cell_type": "markdown",
      "source": [
        "##Treinando o modelo com as imagens e mostrando previsões"
      ],
      "metadata": {
        "id": "--patOVbo9g3"
      }
    },
    {
      "cell_type": "code",
      "source": [
        "base_model = train_model(res_mod, criterion, optimizer_ft, exp_lr_scheduler, num_epochs=3)\n",
        "visualize_model(base_model)\n",
        "plt.show()"
      ],
      "metadata": {
        "colab": {
          "base_uri": "https://localhost:8080/",
          "height": 1000
        },
        "id": "VYJLHNzOkjW9",
        "outputId": "a4d81051-cc94-453c-d9b8-77c5a8017333"
      },
      "execution_count": null,
      "outputs": [
        {
          "output_type": "stream",
          "name": "stdout",
          "text": [
            "Epoch 0/2\n",
            "----------\n",
            "Iterating through data...\n"
          ]
        },
        {
          "output_type": "stream",
          "name": "stderr",
          "text": [
            "/usr/local/lib/python3.7/dist-packages/torch/optim/lr_scheduler.py:134: UserWarning: Detected call of `lr_scheduler.step()` before `optimizer.step()`. In PyTorch 1.1.0 and later, you should call them in the opposite order: `optimizer.step()` before `lr_scheduler.step()`.  Failure to do this will result in PyTorch skipping the first value of the learning rate schedule. See more details at https://pytorch.org/docs/stable/optim.html#how-to-adjust-learning-rate\n",
            "  \"https://pytorch.org/docs/stable/optim.html#how-to-adjust-learning-rate\", UserWarning)\n",
            "/usr/local/lib/python3.7/dist-packages/torch/utils/data/dataloader.py:481: UserWarning: This DataLoader will create 4 worker processes in total. Our suggested max number of worker in current system is 2, which is smaller than what this DataLoader is going to create. Please be aware that excessive worker creation might get DataLoader running slow or even freeze, lower the worker number to avoid potential slowness/freeze if necessary.\n",
            "  cpuset_checked))\n",
            "/usr/local/lib/python3.7/dist-packages/PIL/TiffImagePlugin.py:788: UserWarning: Corrupt EXIF data.  Expecting to read 4 bytes but only got 0. \n",
            "  warnings.warn(str(msg))\n",
            "/usr/local/lib/python3.7/dist-packages/PIL/Image.py:960: UserWarning: Palette images with Transparency expressed in bytes should be converted to RGBA images\n",
            "  \"Palette images with Transparency expressed in bytes should be \"\n"
          ]
        },
        {
          "output_type": "stream",
          "name": "stdout",
          "text": [
            "train Loss: 0.9494 Acc: 0.5856\n",
            "Iterating through data...\n"
          ]
        },
        {
          "output_type": "stream",
          "name": "stderr",
          "text": [
            "/usr/local/lib/python3.7/dist-packages/PIL/Image.py:960: UserWarning: Palette images with Transparency expressed in bytes should be converted to RGBA images\n",
            "  \"Palette images with Transparency expressed in bytes should be \"\n",
            "/usr/local/lib/python3.7/dist-packages/PIL/TiffImagePlugin.py:788: UserWarning: Corrupt EXIF data.  Expecting to read 4 bytes but only got 0. \n",
            "  warnings.warn(str(msg))\n",
            "/usr/local/lib/python3.7/dist-packages/PIL/TiffImagePlugin.py:788: UserWarning: Corrupt EXIF data.  Expecting to read 4 bytes but only got 0. \n",
            "  warnings.warn(str(msg))\n",
            "/usr/local/lib/python3.7/dist-packages/PIL/Image.py:960: UserWarning: Palette images with Transparency expressed in bytes should be converted to RGBA images\n",
            "  \"Palette images with Transparency expressed in bytes should be \"\n",
            "/usr/local/lib/python3.7/dist-packages/PIL/Image.py:960: UserWarning: Palette images with Transparency expressed in bytes should be converted to RGBA images\n",
            "  \"Palette images with Transparency expressed in bytes should be \"\n"
          ]
        },
        {
          "output_type": "stream",
          "name": "stdout",
          "text": [
            "val Loss: 0.0612 Acc: 0.9820\n",
            "\n",
            "Epoch 1/2\n",
            "----------\n",
            "Iterating through data...\n"
          ]
        },
        {
          "output_type": "stream",
          "name": "stderr",
          "text": [
            "/usr/local/lib/python3.7/dist-packages/PIL/Image.py:960: UserWarning: Palette images with Transparency expressed in bytes should be converted to RGBA images\n",
            "  \"Palette images with Transparency expressed in bytes should be \"\n",
            "/usr/local/lib/python3.7/dist-packages/PIL/TiffImagePlugin.py:788: UserWarning: Corrupt EXIF data.  Expecting to read 4 bytes but only got 0. \n",
            "  warnings.warn(str(msg))\n"
          ]
        },
        {
          "output_type": "stream",
          "name": "stdout",
          "text": [
            "train Loss: 0.5526 Acc: 0.7883\n",
            "Iterating through data...\n"
          ]
        },
        {
          "output_type": "stream",
          "name": "stderr",
          "text": [
            "/usr/local/lib/python3.7/dist-packages/PIL/TiffImagePlugin.py:788: UserWarning: Corrupt EXIF data.  Expecting to read 4 bytes but only got 0. \n",
            "  warnings.warn(str(msg))\n",
            "/usr/local/lib/python3.7/dist-packages/PIL/Image.py:960: UserWarning: Palette images with Transparency expressed in bytes should be converted to RGBA images\n",
            "  \"Palette images with Transparency expressed in bytes should be \"\n",
            "/usr/local/lib/python3.7/dist-packages/PIL/Image.py:960: UserWarning: Palette images with Transparency expressed in bytes should be converted to RGBA images\n",
            "  \"Palette images with Transparency expressed in bytes should be \"\n",
            "/usr/local/lib/python3.7/dist-packages/PIL/Image.py:960: UserWarning: Palette images with Transparency expressed in bytes should be converted to RGBA images\n",
            "  \"Palette images with Transparency expressed in bytes should be \"\n",
            "/usr/local/lib/python3.7/dist-packages/PIL/TiffImagePlugin.py:788: UserWarning: Corrupt EXIF data.  Expecting to read 4 bytes but only got 0. \n",
            "  warnings.warn(str(msg))\n"
          ]
        },
        {
          "output_type": "stream",
          "name": "stdout",
          "text": [
            "val Loss: 0.0585 Acc: 0.9858\n",
            "\n",
            "Epoch 2/2\n",
            "----------\n",
            "Iterating through data...\n"
          ]
        },
        {
          "output_type": "stream",
          "name": "stderr",
          "text": [
            "/usr/local/lib/python3.7/dist-packages/PIL/TiffImagePlugin.py:788: UserWarning: Corrupt EXIF data.  Expecting to read 4 bytes but only got 0. \n",
            "  warnings.warn(str(msg))\n",
            "/usr/local/lib/python3.7/dist-packages/PIL/Image.py:960: UserWarning: Palette images with Transparency expressed in bytes should be converted to RGBA images\n",
            "  \"Palette images with Transparency expressed in bytes should be \"\n"
          ]
        },
        {
          "output_type": "stream",
          "name": "stdout",
          "text": [
            "train Loss: 0.6478 Acc: 0.7793\n",
            "Iterating through data...\n"
          ]
        },
        {
          "output_type": "stream",
          "name": "stderr",
          "text": [
            "/usr/local/lib/python3.7/dist-packages/PIL/Image.py:960: UserWarning: Palette images with Transparency expressed in bytes should be converted to RGBA images\n",
            "  \"Palette images with Transparency expressed in bytes should be \"\n",
            "/usr/local/lib/python3.7/dist-packages/PIL/TiffImagePlugin.py:788: UserWarning: Corrupt EXIF data.  Expecting to read 4 bytes but only got 0. \n",
            "  warnings.warn(str(msg))\n",
            "/usr/local/lib/python3.7/dist-packages/PIL/TiffImagePlugin.py:788: UserWarning: Corrupt EXIF data.  Expecting to read 4 bytes but only got 0. \n",
            "  warnings.warn(str(msg))\n",
            "/usr/local/lib/python3.7/dist-packages/PIL/Image.py:960: UserWarning: Palette images with Transparency expressed in bytes should be converted to RGBA images\n",
            "  \"Palette images with Transparency expressed in bytes should be \"\n",
            "/usr/local/lib/python3.7/dist-packages/PIL/Image.py:960: UserWarning: Palette images with Transparency expressed in bytes should be converted to RGBA images\n",
            "  \"Palette images with Transparency expressed in bytes should be \"\n"
          ]
        },
        {
          "output_type": "stream",
          "name": "stdout",
          "text": [
            "val Loss: 0.0472 Acc: 0.9845\n",
            "\n",
            "Training complete in 13m 36s\n",
            "Best val Acc: 0.985825\n"
          ]
        },
        {
          "output_type": "stream",
          "name": "stderr",
          "text": [
            "/usr/local/lib/python3.7/dist-packages/PIL/TiffImagePlugin.py:788: UserWarning: Corrupt EXIF data.  Expecting to read 4 bytes but only got 0. \n",
            "  warnings.warn(str(msg))\n"
          ]
        },
        {
          "output_type": "display_data",
          "data": {
            "image/png": "[encoded data removed]",
            "text/plain": [
              "<Figure size 432x288 with 1 Axes>"
            ]
          },
          "metadata": {
            "needs_background": "light"
          }
        },
        {
          "output_type": "display_data",
          "data": {
            "image/png": "[encoded data removed]",
            "text/plain": [
              "<Figure size 432x288 with 1 Axes>"
            ]
          },
          "metadata": {
            "needs_background": "light"
          }
        },
        {
          "output_type": "display_data",
          "data": {
            "image/png": "[encoded data removed]",
            "text/plain": [
              "<Figure size 432x288 with 1 Axes>"
            ]
          },
          "metadata": {
            "needs_background": "light"
          }
        },
        {
          "output_type": "display_data",
          "data": {
            "image/png": "[encoded data removed]",
            "text/plain": [
              "<Figure size 432x288 with 1 Axes>"
            ]
          },
          "metadata": {
            "needs_background": "light"
          }
        },
        {
          "output_type": "display_data",
          "data": {
            "image/png": "[encoded data removed]",
            "text/plain": [
              "<Figure size 432x288 with 1 Axes>"
            ]
          },
          "metadata": {
            "needs_background": "light"
          }
        },
        {
          "output_type": "display_data",
          "data": {
            "image/png": "[encoded data removed]",
            "text/plain": [
              "<Figure size 432x288 with 1 Axes>"
            ]
          },
          "metadata": {
            "needs_background": "light"
          }
        },
        {
          "output_type": "display_data",
          "data": {
            "image/png": "[encoded data removed]",
            "text/plain": [
              "<Figure size 432x288 with 1 Axes>"
            ]
          },
          "metadata": {
            "needs_background": "light"
          }
        },
        {
          "output_type": "display_data",
          "data": {
            "image/png": "[encoded data removed]",
            "text/plain": [
              "<Figure size 432x288 with 1 Axes>"
            ]
          },
          "metadata": {
            "needs_background": "light"
          }
        },
        {
          "output_type": "display_data",
          "data": {
            "image/png": "[encoded data removed]",
            "text/plain": [
              "<Figure size 432x288 with 1 Axes>"
            ]
          },
          "metadata": {
            "needs_background": "light"
          }
        },
        {
          "output_type": "display_data",
          "data": {
            "image/png": "[encoded data removed]",
            "text/plain": [
              "<Figure size 432x288 with 1 Axes>"
            ]
          },
          "metadata": {
            "needs_background": "light"
          }
        },
        {
          "output_type": "display_data",
          "data": {
            "image/png": "[encoded data removed]",
            "text/plain": [
              "<Figure size 432x288 with 1 Axes>"
            ]
          },
          "metadata": {
            "needs_background": "light"
          }
        },
        {
          "output_type": "display_data",
          "data": {
            "image/png": "[encoded data removed]",
            "text/plain": [
              "<Figure size 432x288 with 1 Axes>"
            ]
          },
          "metadata": {
            "needs_background": "light"
          }
        }
      ]
    },
    {
      "cell_type": "code",
      "source": [
        "# Configurando o modelo\n",
        "# Observe que os parâmetros dos modelos importados são definidos como \"require_grad=True\" por default\n",
        "\n",
        "res_mod = models.resnet34(pretrained=True)\n",
        "for param in res_mod.parameters():\n",
        "    param.requires_grad = False\n",
        "\n",
        "num_ftrs = res_mod.fc.in_features\n",
        "res_mod.fc = nn.Linear(num_ftrs, 3)\n",
        "\n",
        "res_mod = res_mod.to(device)\n",
        "criterion = nn.CrossEntropyLoss()\n",
        "\n",
        "# Aqui está outra mudança: em vez de todos os parâmetros serem otimizados\n",
        "# Apenas os parâmetros das camadas finais estão sendo otimizados\n",
        "\n",
        "optimizer_ft = optim.SGD(res_mod.fc.parameters(), lr=0.001, momentum=0.9)\n",
        "\n",
        "exp_lr_scheduler = lr_scheduler.StepLR(optimizer_ft, step_size=7, gamma=0.1)"
      ],
      "metadata": {
        "id": "3ueOcqd_hbpi"
      },
      "execution_count": null,
      "outputs": []
    },
    {
      "cell_type": "markdown",
      "source": [
        "## E se quiséssemos descongelar seletivamente as camadas e ter os gradientes calculados para apenas algumas camadas escolhidas? Isso é possível? Sim, ele é.\n",
        "## Vamos imprimir os filhos do modelo novamente para lembrar quais camadas/componentes ele possui:"
      ],
      "metadata": {
        "id": "1I6qEaUKq8he"
      }
    },
    {
      "cell_type": "code",
      "source": [
        "for name, child in res_mod.named_children():\n",
        "    print(name)"
      ],
      "metadata": {
        "id": "CZOjs7xAk_JA",
        "colab": {
          "base_uri": "https://localhost:8080/"
        },
        "outputId": "4527435f-6f34-4b72-9257-367bc8c25b50"
      },
      "execution_count": null,
      "outputs": [
        {
          "output_type": "stream",
          "name": "stdout",
          "text": [
            "conv1\n",
            "bn1\n",
            "relu\n",
            "maxpool\n",
            "layer1\n",
            "layer2\n",
            "layer3\n",
            "layer4\n",
            "avgpool\n",
            "fc\n"
          ]
        }
      ]
    },
    {
      "cell_type": "markdown",
      "source": [
        "## Agora que sabemos quais são as camadas, podemos descongelar as que queremos, como apenas as camadas 3 e 4:"
      ],
      "metadata": {
        "id": "pQxkvy1vrSFf"
      }
    },
    {
      "cell_type": "code",
      "source": [
        "for name, child in res_mod.named_children():\n",
        "    if name in ['layer3', 'layer4']:\n",
        "        print(name + 'has been unfrozen.')\n",
        "        for param in child.parameters():\n",
        "            param.requires_grad = True\n",
        "    else:\n",
        "        for param in child.parameters():\n",
        "            param.requires_grad = False"
      ],
      "metadata": {
        "id": "9711pYIUk_Lu",
        "colab": {
          "base_uri": "https://localhost:8080/"
        },
        "outputId": "9c999b9a-7211-4221-deaa-47573c10686a"
      },
      "execution_count": null,
      "outputs": [
        {
          "output_type": "stream",
          "name": "stdout",
          "text": [
            "layer3has been unfrozen.\n",
            "layer4has been unfrozen.\n"
          ]
        }
      ]
    },
    {
      "cell_type": "markdown",
      "source": [
        "## Também precisaremos atualizar o otimizador para refletir o fato de que queremos otimizar apenas determinadas camadas."
      ],
      "metadata": {
        "id": "1aViQ6s9rf1p"
      }
    },
    {
      "cell_type": "code",
      "source": [
        "optimizer_conv = torch.optim.SGD(filter(lambda x: x.requires_grad, res_mod.parameters()), lr=0.001, momentum=0.9)"
      ],
      "metadata": {
        "id": "iatdPnwyk_OW"
      },
      "execution_count": null,
      "outputs": []
    },
    {
      "cell_type": "code",
      "source": [
        "base_model = train_model(res_mod, criterion, optimizer_conv, exp_lr_scheduler, num_epochs=3)\n",
        "visualize_model(base_model)\n",
        "plt.show()"
      ],
      "metadata": {
        "id": "zs_Jb2mzk_Q9",
        "colab": {
          "base_uri": "https://localhost:8080/",
          "height": 1000
        },
        "outputId": "892ef687-ae21-467b-a4c4-53f15728060c"
      },
      "execution_count": null,
      "outputs": [
        {
          "output_type": "stream",
          "name": "stdout",
          "text": [
            "Epoch 0/2\n",
            "----------\n",
            "Iterating through data...\n"
          ]
        },
        {
          "output_type": "stream",
          "name": "stderr",
          "text": [
            "/usr/local/lib/python3.7/dist-packages/torch/optim/lr_scheduler.py:134: UserWarning: Detected call of `lr_scheduler.step()` before `optimizer.step()`. In PyTorch 1.1.0 and later, you should call them in the opposite order: `optimizer.step()` before `lr_scheduler.step()`.  Failure to do this will result in PyTorch skipping the first value of the learning rate schedule. See more details at https://pytorch.org/docs/stable/optim.html#how-to-adjust-learning-rate\n",
            "  \"https://pytorch.org/docs/stable/optim.html#how-to-adjust-learning-rate\", UserWarning)\n",
            "/usr/local/lib/python3.7/dist-packages/torch/utils/data/dataloader.py:481: UserWarning: This DataLoader will create 4 worker processes in total. Our suggested max number of worker in current system is 2, which is smaller than what this DataLoader is going to create. Please be aware that excessive worker creation might get DataLoader running slow or even freeze, lower the worker number to avoid potential slowness/freeze if necessary.\n",
            "  cpuset_checked))\n",
            "/usr/local/lib/python3.7/dist-packages/PIL/TiffImagePlugin.py:788: UserWarning: Corrupt EXIF data.  Expecting to read 4 bytes but only got 0. \n",
            "  warnings.warn(str(msg))\n",
            "/usr/local/lib/python3.7/dist-packages/PIL/Image.py:960: UserWarning: Palette images with Transparency expressed in bytes should be converted to RGBA images\n",
            "  \"Palette images with Transparency expressed in bytes should be \"\n"
          ]
        },
        {
          "output_type": "stream",
          "name": "stdout",
          "text": [
            "train Loss: 0.7793 Acc: 0.6982\n",
            "Iterating through data...\n"
          ]
        },
        {
          "output_type": "stream",
          "name": "stderr",
          "text": [
            "/usr/local/lib/python3.7/dist-packages/PIL/Image.py:960: UserWarning: Palette images with Transparency expressed in bytes should be converted to RGBA images\n",
            "  \"Palette images with Transparency expressed in bytes should be \"\n",
            "/usr/local/lib/python3.7/dist-packages/PIL/TiffImagePlugin.py:788: UserWarning: Corrupt EXIF data.  Expecting to read 4 bytes but only got 0. \n",
            "  warnings.warn(str(msg))\n",
            "/usr/local/lib/python3.7/dist-packages/PIL/Image.py:960: UserWarning: Palette images with Transparency expressed in bytes should be converted to RGBA images\n",
            "  \"Palette images with Transparency expressed in bytes should be \"\n",
            "/usr/local/lib/python3.7/dist-packages/PIL/TiffImagePlugin.py:788: UserWarning: Corrupt EXIF data.  Expecting to read 4 bytes but only got 0. \n",
            "  warnings.warn(str(msg))\n",
            "/usr/local/lib/python3.7/dist-packages/PIL/TiffImagePlugin.py:788: UserWarning: Corrupt EXIF data.  Expecting to read 4 bytes but only got 0. \n",
            "  warnings.warn(str(msg))\n"
          ]
        },
        {
          "output_type": "stream",
          "name": "stdout",
          "text": [
            "val Loss: 0.1697 Acc: 0.9691\n",
            "\n",
            "Epoch 1/2\n",
            "----------\n",
            "Iterating through data...\n"
          ]
        },
        {
          "output_type": "stream",
          "name": "stderr",
          "text": [
            "/usr/local/lib/python3.7/dist-packages/PIL/TiffImagePlugin.py:788: UserWarning: Corrupt EXIF data.  Expecting to read 4 bytes but only got 0. \n",
            "  warnings.warn(str(msg))\n",
            "/usr/local/lib/python3.7/dist-packages/PIL/Image.py:960: UserWarning: Palette images with Transparency expressed in bytes should be converted to RGBA images\n",
            "  \"Palette images with Transparency expressed in bytes should be \"\n"
          ]
        },
        {
          "output_type": "stream",
          "name": "stdout",
          "text": [
            "train Loss: 0.4206 Acc: 0.8378\n",
            "Iterating through data...\n"
          ]
        },
        {
          "output_type": "stream",
          "name": "stderr",
          "text": [
            "/usr/local/lib/python3.7/dist-packages/PIL/Image.py:960: UserWarning: Palette images with Transparency expressed in bytes should be converted to RGBA images\n",
            "  \"Palette images with Transparency expressed in bytes should be \"\n",
            "/usr/local/lib/python3.7/dist-packages/PIL/Image.py:960: UserWarning: Palette images with Transparency expressed in bytes should be converted to RGBA images\n",
            "  \"Palette images with Transparency expressed in bytes should be \"\n",
            "/usr/local/lib/python3.7/dist-packages/PIL/TiffImagePlugin.py:788: UserWarning: Corrupt EXIF data.  Expecting to read 4 bytes but only got 0. \n",
            "  warnings.warn(str(msg))\n",
            "/usr/local/lib/python3.7/dist-packages/PIL/TiffImagePlugin.py:788: UserWarning: Corrupt EXIF data.  Expecting to read 4 bytes but only got 0. \n",
            "  warnings.warn(str(msg))\n",
            "/usr/local/lib/python3.7/dist-packages/PIL/TiffImagePlugin.py:788: UserWarning: Corrupt EXIF data.  Expecting to read 4 bytes but only got 0. \n",
            "  warnings.warn(str(msg))\n",
            "/usr/local/lib/python3.7/dist-packages/PIL/Image.py:960: UserWarning: Palette images with Transparency expressed in bytes should be converted to RGBA images\n",
            "  \"Palette images with Transparency expressed in bytes should be \"\n"
          ]
        },
        {
          "output_type": "stream",
          "name": "stdout",
          "text": [
            "val Loss: 0.0972 Acc: 0.9845\n",
            "\n",
            "Epoch 2/2\n",
            "----------\n",
            "Iterating through data...\n"
          ]
        },
        {
          "output_type": "stream",
          "name": "stderr",
          "text": [
            "/usr/local/lib/python3.7/dist-packages/PIL/Image.py:960: UserWarning: Palette images with Transparency expressed in bytes should be converted to RGBA images\n",
            "  \"Palette images with Transparency expressed in bytes should be \"\n",
            "/usr/local/lib/python3.7/dist-packages/PIL/TiffImagePlugin.py:788: UserWarning: Corrupt EXIF data.  Expecting to read 4 bytes but only got 0. \n",
            "  warnings.warn(str(msg))\n"
          ]
        },
        {
          "output_type": "stream",
          "name": "stdout",
          "text": [
            "train Loss: 0.4295 Acc: 0.8468\n",
            "Iterating through data...\n"
          ]
        },
        {
          "output_type": "stream",
          "name": "stderr",
          "text": [
            "/usr/local/lib/python3.7/dist-packages/PIL/Image.py:960: UserWarning: Palette images with Transparency expressed in bytes should be converted to RGBA images\n",
            "  \"Palette images with Transparency expressed in bytes should be \"\n",
            "/usr/local/lib/python3.7/dist-packages/PIL/TiffImagePlugin.py:788: UserWarning: Corrupt EXIF data.  Expecting to read 4 bytes but only got 0. \n",
            "  warnings.warn(str(msg))\n",
            "/usr/local/lib/python3.7/dist-packages/PIL/TiffImagePlugin.py:788: UserWarning: Corrupt EXIF data.  Expecting to read 4 bytes but only got 0. \n",
            "  warnings.warn(str(msg))\n",
            "/usr/local/lib/python3.7/dist-packages/PIL/Image.py:960: UserWarning: Palette images with Transparency expressed in bytes should be converted to RGBA images\n",
            "  \"Palette images with Transparency expressed in bytes should be \"\n"
          ]
        },
        {
          "output_type": "stream",
          "name": "stdout",
          "text": [
            "val Loss: 0.0429 Acc: 0.9961\n",
            "\n",
            "Training complete in 12m 9s\n",
            "Best val Acc: 0.996134\n"
          ]
        },
        {
          "output_type": "display_data",
          "data": {
            "image/png": "[encoded data removed]",
            "text/plain": [
              "<Figure size 432x288 with 1 Axes>"
            ]
          },
          "metadata": {
            "needs_background": "light"
          }
        },
        {
          "output_type": "display_data",
          "data": {
            "image/png": "[encoded data removed]",
            "text/plain": [
              "<Figure size 432x288 with 1 Axes>"
            ]
          },
          "metadata": {
            "needs_background": "light"
          }
        },
        {
          "output_type": "display_data",
          "data": {
            "image/png": "[encoded data removed]",
            "text/plain": [
              "<Figure size 432x288 with 1 Axes>"
            ]
          },
          "metadata": {
            "needs_background": "light"
          }
        },
        {
          "output_type": "display_data",
          "data": {
            "image/png": "[encoded data removed]",
            "text/plain": [
              "<Figure size 432x288 with 1 Axes>"
            ]
          },
          "metadata": {
            "needs_background": "light"
          }
        },
        {
          "output_type": "display_data",
          "data": {
            "image/png": "[encoded data removed]",
            "text/plain": [
              "<Figure size 432x288 with 1 Axes>"
            ]
          },
          "metadata": {
            "needs_background": "light"
          }
        },
        {
          "output_type": "display_data",
          "data": {
            "image/png": "[encoded data removed]",
            "text/plain": [
              "<Figure size 432x288 with 1 Axes>"
            ]
          },
          "metadata": {
            "needs_background": "light"
          }
        },
        {
          "output_type": "display_data",
          "data": {
            "image/png": "[encoded data removed]",
            "text/plain": [
              "<Figure size 432x288 with 1 Axes>"
            ]
          },
          "metadata": {
            "needs_background": "light"
          }
        },
        {
          "output_type": "display_data",
          "data": {
            "image/png": "[encoded data removed]",
            "text/plain": [
              "<Figure size 432x288 with 1 Axes>"
            ]
          },
          "metadata": {
            "needs_background": "light"
          }
        },
        {
          "output_type": "display_data",
          "data": {
            "image/png": "[encoded data removed]",
            "text/plain": [
              "<Figure size 432x288 with 1 Axes>"
            ]
          },
          "metadata": {
            "needs_background": "light"
          }
        },
        {
          "output_type": "display_data",
          "data": {
            "image/png": "[encoded data removed]",
            "text/plain": [
              "<Figure size 432x288 with 1 Axes>"
            ]
          },
          "metadata": {
            "needs_background": "light"
          }
        },
        {
          "output_type": "display_data",
          "data": {
            "image/png": "[encoded data removed]",
            "text/plain": [
              "<Figure size 432x288 with 1 Axes>"
            ]
          },
          "metadata": {
            "needs_background": "light"
          }
        },
        {
          "output_type": "display_data",
          "data": {
            "image/png": "[encoded data removed]",
            "text/plain": [
              "<Figure size 432x288 with 1 Axes>"
            ]
          },
          "metadata": {
            "needs_background": "light"
          }
        }
      ]
    },
    {
      "cell_type": "code",
      "source": [
        "!mkdir models/\n"
      ],
      "metadata": {
        "id": "Mtxq1jbbuK9B"
      },
      "execution_count": null,
      "outputs": []
    },
    {
      "cell_type": "code",
      "source": [
        "torch.save(base_model.state_dict(), \"/content/models/test.pt\" )"
      ],
      "metadata": {
        "id": "H6-yZQUAk_UL"
      },
      "execution_count": null,
      "outputs": []
    },
    {
      "cell_type": "code",
      "source": [
        "base_model.load_state_dict(torch.load(\"/content/models/test.pt\"))\n",
        "base_model.eval()"
      ],
      "metadata": {
        "id": "bkW2-BS1lQSz",
        "colab": {
          "base_uri": "https://localhost:8080/"
        },
        "outputId": "6bc533f3-66ea-4439-c6df-0afff5c64be5"
      },
      "execution_count": null,
      "outputs": [
        {
          "output_type": "execute_result",
          "data": {
            "text/plain": [
              "ResNet(\n",
              "  (conv1): Conv2d(3, 64, kernel_size=(7, 7), stride=(2, 2), padding=(3, 3), bias=False)\n",
              "  (bn1): BatchNorm2d(64, eps=1e-05, momentum=0.1, affine=True, track_running_stats=True)\n",
              "  (relu): ReLU(inplace=True)\n",
              "  (maxpool): MaxPool2d(kernel_size=3, stride=2, padding=1, dilation=1, ceil_mode=False)\n",
              "  (layer1): Sequential(\n",
              "    (0): BasicBlock(\n",
              "      (conv1): Conv2d(64, 64, kernel_size=(3, 3), stride=(1, 1), padding=(1, 1), bias=False)\n",
              "      (bn1): BatchNorm2d(64, eps=1e-05, momentum=0.1, affine=True, track_running_stats=True)\n",
              "      (relu): ReLU(inplace=True)\n",
              "      (conv2): Conv2d(64, 64, kernel_size=(3, 3), stride=(1, 1), padding=(1, 1), bias=False)\n",
              "      (bn2): BatchNorm2d(64, eps=1e-05, momentum=0.1, affine=True, track_running_stats=True)\n",
              "    )\n",
              "    (1): BasicBlock(\n",
              "      (conv1): Conv2d(64, 64, kernel_size=(3, 3), stride=(1, 1), padding=(1, 1), bias=False)\n",
              "      (bn1): BatchNorm2d(64, eps=1e-05, momentum=0.1, affine=True, track_running_stats=True)\n",
              "      (relu): ReLU(inplace=True)\n",
              "      (conv2): Conv2d(64, 64, kernel_size=(3, 3), stride=(1, 1), padding=(1, 1), bias=False)\n",
              "      (bn2): BatchNorm2d(64, eps=1e-05, momentum=0.1, affine=True, track_running_stats=True)\n",
              "    )\n",
              "    (2): BasicBlock(\n",
              "      (conv1): Conv2d(64, 64, kernel_size=(3, 3), stride=(1, 1), padding=(1, 1), bias=False)\n",
              "      (bn1): BatchNorm2d(64, eps=1e-05, momentum=0.1, affine=True, track_running_stats=True)\n",
              "      (relu): ReLU(inplace=True)\n",
              "      (conv2): Conv2d(64, 64, kernel_size=(3, 3), stride=(1, 1), padding=(1, 1), bias=False)\n",
              "      (bn2): BatchNorm2d(64, eps=1e-05, momentum=0.1, affine=True, track_running_stats=True)\n",
              "    )\n",
              "  )\n",
              "  (layer2): Sequential(\n",
              "    (0): BasicBlock(\n",
              "      (conv1): Conv2d(64, 128, kernel_size=(3, 3), stride=(2, 2), padding=(1, 1), bias=False)\n",
              "      (bn1): BatchNorm2d(128, eps=1e-05, momentum=0.1, affine=True, track_running_stats=True)\n",
              "      (relu): ReLU(inplace=True)\n",
              "      (conv2): Conv2d(128, 128, kernel_size=(3, 3), stride=(1, 1), padding=(1, 1), bias=False)\n",
              "      (bn2): BatchNorm2d(128, eps=1e-05, momentum=0.1, affine=True, track_running_stats=True)\n",
              "      (downsample): Sequential(\n",
              "        (0): Conv2d(64, 128, kernel_size=(1, 1), stride=(2, 2), bias=False)\n",
              "        (1): BatchNorm2d(128, eps=1e-05, momentum=0.1, affine=True, track_running_stats=True)\n",
              "      )\n",
              "    )\n",
              "    (1): BasicBlock(\n",
              "      (conv1): Conv2d(128, 128, kernel_size=(3, 3), stride=(1, 1), padding=(1, 1), bias=False)\n",
              "      (bn1): BatchNorm2d(128, eps=1e-05, momentum=0.1, affine=True, track_running_stats=True)\n",
              "      (relu): ReLU(inplace=True)\n",
              "      (conv2): Conv2d(128, 128, kernel_size=(3, 3), stride=(1, 1), padding=(1, 1), bias=False)\n",
              "      (bn2): BatchNorm2d(128, eps=1e-05, momentum=0.1, affine=True, track_running_stats=True)\n",
              "    )\n",
              "    (2): BasicBlock(\n",
              "      (conv1): Conv2d(128, 128, kernel_size=(3, 3), stride=(1, 1), padding=(1, 1), bias=False)\n",
              "      (bn1): BatchNorm2d(128, eps=1e-05, momentum=0.1, affine=True, track_running_stats=True)\n",
              "      (relu): ReLU(inplace=True)\n",
              "      (conv2): Conv2d(128, 128, kernel_size=(3, 3), stride=(1, 1), padding=(1, 1), bias=False)\n",
              "      (bn2): BatchNorm2d(128, eps=1e-05, momentum=0.1, affine=True, track_running_stats=True)\n",
              "    )\n",
              "    (3): BasicBlock(\n",
              "      (conv1): Conv2d(128, 128, kernel_size=(3, 3), stride=(1, 1), padding=(1, 1), bias=False)\n",
              "      (bn1): BatchNorm2d(128, eps=1e-05, momentum=0.1, affine=True, track_running_stats=True)\n",
              "      (relu): ReLU(inplace=True)\n",
              "      (conv2): Conv2d(128, 128, kernel_size=(3, 3), stride=(1, 1), padding=(1, 1), bias=False)\n",
              "      (bn2): BatchNorm2d(128, eps=1e-05, momentum=0.1, affine=True, track_running_stats=True)\n",
              "    )\n",
              "  )\n",
              "  (layer3): Sequential(\n",
              "    (0): BasicBlock(\n",
              "      (conv1): Conv2d(128, 256, kernel_size=(3, 3), stride=(2, 2), padding=(1, 1), bias=False)\n",
              "      (bn1): BatchNorm2d(256, eps=1e-05, momentum=0.1, affine=True, track_running_stats=True)\n",
              "      (relu): ReLU(inplace=True)\n",
              "      (conv2): Conv2d(256, 256, kernel_size=(3, 3), stride=(1, 1), padding=(1, 1), bias=False)\n",
              "      (bn2): BatchNorm2d(256, eps=1e-05, momentum=0.1, affine=True, track_running_stats=True)\n",
              "      (downsample): Sequential(\n",
              "        (0): Conv2d(128, 256, kernel_size=(1, 1), stride=(2, 2), bias=False)\n",
              "        (1): BatchNorm2d(256, eps=1e-05, momentum=0.1, affine=True, track_running_stats=True)\n",
              "      )\n",
              "    )\n",
              "    (1): BasicBlock(\n",
              "      (conv1): Conv2d(256, 256, kernel_size=(3, 3), stride=(1, 1), padding=(1, 1), bias=False)\n",
              "      (bn1): BatchNorm2d(256, eps=1e-05, momentum=0.1, affine=True, track_running_stats=True)\n",
              "      (relu): ReLU(inplace=True)\n",
              "      (conv2): Conv2d(256, 256, kernel_size=(3, 3), stride=(1, 1), padding=(1, 1), bias=False)\n",
              "      (bn2): BatchNorm2d(256, eps=1e-05, momentum=0.1, affine=True, track_running_stats=True)\n",
              "    )\n",
              "    (2): BasicBlock(\n",
              "      (conv1): Conv2d(256, 256, kernel_size=(3, 3), stride=(1, 1), padding=(1, 1), bias=False)\n",
              "      (bn1): BatchNorm2d(256, eps=1e-05, momentum=0.1, affine=True, track_running_stats=True)\n",
              "      (relu): ReLU(inplace=True)\n",
              "      (conv2): Conv2d(256, 256, kernel_size=(3, 3), stride=(1, 1), padding=(1, 1), bias=False)\n",
              "      (bn2): BatchNorm2d(256, eps=1e-05, momentum=0.1, affine=True, track_running_stats=True)\n",
              "    )\n",
              "    (3): BasicBlock(\n",
              "      (conv1): Conv2d(256, 256, kernel_size=(3, 3), stride=(1, 1), padding=(1, 1), bias=False)\n",
              "      (bn1): BatchNorm2d(256, eps=1e-05, momentum=0.1, affine=True, track_running_stats=True)\n",
              "      (relu): ReLU(inplace=True)\n",
              "      (conv2): Conv2d(256, 256, kernel_size=(3, 3), stride=(1, 1), padding=(1, 1), bias=False)\n",
              "      (bn2): BatchNorm2d(256, eps=1e-05, momentum=0.1, affine=True, track_running_stats=True)\n",
              "    )\n",
              "    (4): BasicBlock(\n",
              "      (conv1): Conv2d(256, 256, kernel_size=(3, 3), stride=(1, 1), padding=(1, 1), bias=False)\n",
              "      (bn1): BatchNorm2d(256, eps=1e-05, momentum=0.1, affine=True, track_running_stats=True)\n",
              "      (relu): ReLU(inplace=True)\n",
              "      (conv2): Conv2d(256, 256, kernel_size=(3, 3), stride=(1, 1), padding=(1, 1), bias=False)\n",
              "      (bn2): BatchNorm2d(256, eps=1e-05, momentum=0.1, affine=True, track_running_stats=True)\n",
              "    )\n",
              "    (5): BasicBlock(\n",
              "      (conv1): Conv2d(256, 256, kernel_size=(3, 3), stride=(1, 1), padding=(1, 1), bias=False)\n",
              "      (bn1): BatchNorm2d(256, eps=1e-05, momentum=0.1, affine=True, track_running_stats=True)\n",
              "      (relu): ReLU(inplace=True)\n",
              "      (conv2): Conv2d(256, 256, kernel_size=(3, 3), stride=(1, 1), padding=(1, 1), bias=False)\n",
              "      (bn2): BatchNorm2d(256, eps=1e-05, momentum=0.1, affine=True, track_running_stats=True)\n",
              "    )\n",
              "  )\n",
              "  (layer4): Sequential(\n",
              "    (0): BasicBlock(\n",
              "      (conv1): Conv2d(256, 512, kernel_size=(3, 3), stride=(2, 2), padding=(1, 1), bias=False)\n",
              "      (bn1): BatchNorm2d(512, eps=1e-05, momentum=0.1, affine=True, track_running_stats=True)\n",
              "      (relu): ReLU(inplace=True)\n",
              "      (conv2): Conv2d(512, 512, kernel_size=(3, 3), stride=(1, 1), padding=(1, 1), bias=False)\n",
              "      (bn2): BatchNorm2d(512, eps=1e-05, momentum=0.1, affine=True, track_running_stats=True)\n",
              "      (downsample): Sequential(\n",
              "        (0): Conv2d(256, 512, kernel_size=(1, 1), stride=(2, 2), bias=False)\n",
              "        (1): BatchNorm2d(512, eps=1e-05, momentum=0.1, affine=True, track_running_stats=True)\n",
              "      )\n",
              "    )\n",
              "    (1): BasicBlock(\n",
              "      (conv1): Conv2d(512, 512, kernel_size=(3, 3), stride=(1, 1), padding=(1, 1), bias=False)\n",
              "      (bn1): BatchNorm2d(512, eps=1e-05, momentum=0.1, affine=True, track_running_stats=True)\n",
              "      (relu): ReLU(inplace=True)\n",
              "      (conv2): Conv2d(512, 512, kernel_size=(3, 3), stride=(1, 1), padding=(1, 1), bias=False)\n",
              "      (bn2): BatchNorm2d(512, eps=1e-05, momentum=0.1, affine=True, track_running_stats=True)\n",
              "    )\n",
              "    (2): BasicBlock(\n",
              "      (conv1): Conv2d(512, 512, kernel_size=(3, 3), stride=(1, 1), padding=(1, 1), bias=False)\n",
              "      (bn1): BatchNorm2d(512, eps=1e-05, momentum=0.1, affine=True, track_running_stats=True)\n",
              "      (relu): ReLU(inplace=True)\n",
              "      (conv2): Conv2d(512, 512, kernel_size=(3, 3), stride=(1, 1), padding=(1, 1), bias=False)\n",
              "      (bn2): BatchNorm2d(512, eps=1e-05, momentum=0.1, affine=True, track_running_stats=True)\n",
              "    )\n",
              "  )\n",
              "  (avgpool): AdaptiveAvgPool2d(output_size=(1, 1))\n",
              "  (fc): Linear(in_features=512, out_features=3, bias=True)\n",
              ")"
            ]
          },
          "metadata": {},
          "execution_count": 35
        }
      ]
    },
    {
      "cell_type": "markdown",
      "source": [
        "##Conclusão\n",
        "\n",
        "Foi implementado um modelo de redes neurais, salvo na pasta \\models do painel do colab, com um dataset de três classes (lion-tiger-cow), contendo um total 999 imagens, postado em minha página do github https://github.com/Ricardojnf33, com o repositório de título RedesNeurais_ClassificationImage. O treinamento foi realizado em 12m 9s com os seguintes resultados:\n",
        "\n",
        "* val Loss: 0.0429\n",
        "* Best val Acc: 0.996134"
      ],
      "metadata": {
        "id": "O6ea6mNauh4b"
      }
    },
    {
      "cell_type": "code",
      "source": [
        "!python --version"
      ],
      "metadata": {
        "colab": {
          "base_uri": "https://localhost:8080/"
        },
        "id": "6vYU9pQsu1Ju",
        "outputId": "bee7d7bd-e11e-4702-b737-2c6ba0384aac"
      },
      "execution_count": null,
      "outputs": [
        {
          "output_type": "stream",
          "name": "stdout",
          "text": [
            "Python 3.7.12\n"
          ]
        }
      ]
    }
  ]
}